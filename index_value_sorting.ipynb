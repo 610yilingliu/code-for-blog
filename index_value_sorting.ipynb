{
 "cells": [
  {
   "cell_type": "markdown",
   "metadata": {},
   "source": [
    "First and formost, create a series as example:"
   ]
  },
  {
   "cell_type": "markdown",
   "metadata": {},
   "source": [
    "首先，创建一个多层目录series用于演示"
   ]
  },
  {
   "cell_type": "code",
   "execution_count": 1,
   "metadata": {},
   "outputs": [
    {
     "name": "stdout",
     "output_type": "stream",
     "text": "first  second\nbaz    one       0.085324\n       two      -0.008981\nbar    one      -1.201993\n       two       0.735646\nfoo    one       0.397933\n       two      -1.269596\nqux    one       0.461881\n       two      -0.200283\ndtype: float64\n"
    }
   ],
   "source": [
    "import pandas as pd\n",
    "import numpy as np\n",
    "\n",
    "arrays = [['baz', 'baz', 'bar', 'bar', 'foo', 'foo', 'qux', 'qux'], ['one', 'two', 'one', 'two', 'one', 'two', 'one', 'two']]\n",
    "tuples = list(zip(*arrays))\n",
    "index = pd.MultiIndex.from_tuples(tuples, names=['first', 'second'])\n",
    "s = pd.Series(np.random.randn(8), index=index)\n",
    "print(s)"
   ]
  },
  {
   "cell_type": "markdown",
   "metadata": {},
   "source": [
    "If we simply sort by python built-in functions, it will looks like that:"
   ]
  },
  {
   "cell_type": "markdown",
   "metadata": {},
   "source": [
    "如果我们只是单纯地用python内置库进行排序，会变成这样："
   ]
  },
  {
   "cell_type": "code",
   "execution_count": 2,
   "metadata": {},
   "outputs": [
    {
     "data": {
      "text/plain": "first  second\nfoo    two      -1.269596\nbar    one      -1.201993\nqux    two      -0.200283\nbaz    two      -0.008981\n       one       0.085324\nfoo    one       0.397933\nqux    one       0.461881\nbar    two       0.735646\ndtype: float64"
     },
     "execution_count": 2,
     "metadata": {},
     "output_type": "execute_result"
    }
   ],
   "source": [
    "s.sort_index(level = 'first').sort_values()"
   ]
  },
  {
   "cell_type": "markdown",
   "metadata": {},
   "source": [
    "It is not we want. What we need is to lock the index 'first' first, do sorting inside the index and than sort the whole bunch of data with different 'first'.\n",
    "\n",
    "So convert series into dataframe first by using reset_index(). Dataframe provide a function also called sort_values(), because of the data type 'Dataframe' does not have multi-index, the different indexes in series, as well as values, will be considered as cells in dataframe"
   ]
  },
  {
   "cell_type": "markdown",
   "metadata": {},
   "source": [
    "这并不是我们想要的结果（first那列乱了！！），我们需要先锁定first那列，然后对后面那堆数值进行排序，然后再将拥有相同first的项作为一个整体，对first进行排序（真正的排序结果在本文最后）。\n",
    "\n",
    "所以要把series先转换成dataframe(用reset_index()这个函数转的)，这样就可以用reset_index方程根据排序优先级进行排序。因为dataframe没有多层目录这个东西，所有的目录名都被当成变量处理。我们把目录的优先级设置成最高就不会将目录打乱了"
   ]
  },
  {
   "cell_type": "code",
   "execution_count": 3,
   "metadata": {},
   "outputs": [
    {
     "name": "stdout",
     "output_type": "stream",
     "text": "first second         0\n0   baz    one  0.085324\n1   baz    two -0.008981\n2   bar    one -1.201993\n3   bar    two  0.735646\n4   foo    one  0.397933\n5   foo    two -1.269596\n6   qux    one  0.461881\n7   qux    two -0.200283\n\n Now the datatype of 's_df' is:\n<class 'pandas.core.frame.DataFrame'>\n"
    }
   ],
   "source": [
    "s_df = s.reset_index()\n",
    "print(s_df)\n",
    "print('\\n Now the datatype of \\'s_df\\' is:')\n",
    "print(type(s_df))"
   ]
  },
  {
   "cell_type": "code",
   "execution_count": 4,
   "metadata": {},
   "outputs": [
    {
     "name": "stdout",
     "output_type": "stream",
     "text": "first second         0\n2   bar    one -1.201993\n3   bar    two  0.735646\n1   baz    two -0.008981\n0   baz    one  0.085324\n5   foo    two -1.269596\n4   foo    one  0.397933\n7   qux    two -0.200283\n6   qux    one  0.461881\n"
    }
   ],
   "source": [
    "s_sorted_df = s_df.sort_values(by = ['first',0])\n",
    "print(s_sorted_df)"
   ]
  },
  {
   "cell_type": "markdown",
   "metadata": {},
   "source": [
    "Now use this dataframe to rebuild a series, the new series is the outcome we want"
   ]
  },
  {
   "cell_type": "markdown",
   "metadata": {},
   "source": [
    "现在就用这个排好序的Dataframe去重新建立Series，下面那堆实在是很麻烦，没有能直接转换的内置函数。"
   ]
  },
  {
   "cell_type": "code",
   "execution_count": 5,
   "metadata": {},
   "outputs": [
    {
     "name": "stdout",
     "output_type": "stream",
     "text": "Data Type of the data under index1:\n<class 'list'>\n\n\nData Type of the data under index2:\n<class 'list'>\n\n\nData Type of the data under sorted_values:\n<class 'pandas.core.series.Series'>\n"
    }
   ],
   "source": [
    "index1 = s_sorted_df.loc[:,'first'].tolist()\n",
    "index2 = s_sorted_df.loc[:,'second'].tolist()\n",
    "sorted_values = s_df.loc[:,0]\n",
    "\n",
    "print('Data Type of the data under index1:')\n",
    "print(type(index1))\n",
    "print('\\n')\n",
    "print('Data Type of the data under index2:')\n",
    "print(type(index2))\n",
    "print('\\n')\n",
    "print('Data Type of the data under sorted_values:')\n",
    "print(type(sorted_values))"
   ]
  },
  {
   "cell_type": "markdown",
   "metadata": {},
   "source": [
    "values should be converted to numpy-array otherwise it cannot be used to from a series"
   ]
  },
  {
   "cell_type": "markdown",
   "metadata": {},
   "source": [
    "需要注意的是，数值那列需要转换成numpy.array格式才能作为series的数值"
   ]
  },
  {
   "cell_type": "code",
   "execution_count": 6,
   "metadata": {},
   "outputs": [
    {
     "name": "stdout",
     "output_type": "stream",
     "text": "Now the datatype of values is:\n<class 'numpy.ndarray'>\n"
    }
   ],
   "source": [
    "sorted_values = np.array(sorted_values)\n",
    "print('Now the datatype of values is:')\n",
    "print(type(sorted_values))"
   ]
  },
  {
   "cell_type": "markdown",
   "metadata": {},
   "source": [
    "Now assemble everything to form a series"
   ]
  },
  {
   "cell_type": "markdown",
   "metadata": {},
   "source": [
    "然后把几个目录和数值弄到一起就好了。"
   ]
  },
  {
   "cell_type": "code",
   "execution_count": 7,
   "metadata": {},
   "outputs": [
    {
     "name": "stdout",
     "output_type": "stream",
     "text": "bar  one    0.085324\n     two   -0.008981\nbaz  two   -1.201993\n     one    0.735646\nfoo  two    0.397933\n     one   -1.269596\nqux  two    0.461881\n     one   -0.200283\ndtype: float64\n"
    }
   ],
   "source": [
    "sorted_index = [index1,index2]\n",
    "sorted_s = pd.Series(sorted_values,index=sorted_index)\n",
    "print(sorted_s)"
   ]
  },
  {
   "cell_type": "markdown",
   "metadata": {},
   "source": [
    "That is what we want."
   ]
  },
  {
   "cell_type": "markdown",
   "metadata": {},
   "source": [
    "完工"
   ]
  },
  {
   "cell_type": "code",
   "execution_count": null,
   "metadata": {},
   "outputs": [],
   "source": []
  }
 ],
 "metadata": {
  "file_extension": ".py",
  "kernelspec": {
   "display_name": "Python 3",
   "language": "python",
   "name": "python3"
  },
  "language_info": {
   "codemirror_mode": {
    "name": "ipython",
    "version": 3
   },
   "file_extension": ".py",
   "mimetype": "text/x-python",
   "name": "python",
   "nbconvert_exporter": "python",
   "pygments_lexer": "ipython3",
   "version": "3.7.4"
  },
  "mimetype": "text/x-python",
  "name": "python",
  "npconvert_exporter": "python",
  "pygments_lexer": "ipython3",
  "version": 3
 },
 "nbformat": 4,
 "nbformat_minor": 2
}